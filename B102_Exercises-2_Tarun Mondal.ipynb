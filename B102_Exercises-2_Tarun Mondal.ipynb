{
 "cells": [
  {
   "cell_type": "code",
   "execution_count": 1,
   "metadata": {},
   "outputs": [],
   "source": [
    "%matplotlib inline\n",
    "import pandas as pd"
   ]
  },
  {
   "cell_type": "code",
   "execution_count": 2,
   "metadata": {},
   "outputs": [],
   "source": [
    "import warnings\n",
    "warnings.filterwarnings('ignore')"
   ]
  },
  {
   "cell_type": "code",
   "execution_count": 3,
   "metadata": {},
   "outputs": [
    {
     "data": {
      "text/html": [
       "<div>\n",
       "<style scoped>\n",
       "    .dataframe tbody tr th:only-of-type {\n",
       "        vertical-align: middle;\n",
       "    }\n",
       "\n",
       "    .dataframe tbody tr th {\n",
       "        vertical-align: top;\n",
       "    }\n",
       "\n",
       "    .dataframe thead th {\n",
       "        text-align: right;\n",
       "    }\n",
       "</style>\n",
       "<table border=\"1\" class=\"dataframe\">\n",
       "  <thead>\n",
       "    <tr style=\"text-align: right;\">\n",
       "      <th></th>\n",
       "      <th>title</th>\n",
       "      <th>year</th>\n",
       "    </tr>\n",
       "  </thead>\n",
       "  <tbody>\n",
       "    <tr>\n",
       "      <th>0</th>\n",
       "      <td>The Rising Son</td>\n",
       "      <td>1990</td>\n",
       "    </tr>\n",
       "    <tr>\n",
       "      <th>1</th>\n",
       "      <td>The Thousand Plane Raid</td>\n",
       "      <td>1969</td>\n",
       "    </tr>\n",
       "    <tr>\n",
       "      <th>2</th>\n",
       "      <td>Crucea de piatra</td>\n",
       "      <td>1993</td>\n",
       "    </tr>\n",
       "    <tr>\n",
       "      <th>3</th>\n",
       "      <td>Country</td>\n",
       "      <td>2000</td>\n",
       "    </tr>\n",
       "    <tr>\n",
       "      <th>4</th>\n",
       "      <td>Gaiking II</td>\n",
       "      <td>2011</td>\n",
       "    </tr>\n",
       "  </tbody>\n",
       "</table>\n",
       "</div>"
      ],
      "text/plain": [
       "                     title  year\n",
       "0           The Rising Son  1990\n",
       "1  The Thousand Plane Raid  1969\n",
       "2         Crucea de piatra  1993\n",
       "3                  Country  2000\n",
       "4               Gaiking II  2011"
      ]
     },
     "execution_count": 3,
     "metadata": {},
     "output_type": "execute_result"
    }
   ],
   "source": [
    "titles = pd.read_csv('titles.csv')\n",
    "titles.head()"
   ]
  },
  {
   "cell_type": "code",
   "execution_count": 4,
   "metadata": {},
   "outputs": [
    {
     "data": {
      "text/html": [
       "<div>\n",
       "<style scoped>\n",
       "    .dataframe tbody tr th:only-of-type {\n",
       "        vertical-align: middle;\n",
       "    }\n",
       "\n",
       "    .dataframe tbody tr th {\n",
       "        vertical-align: top;\n",
       "    }\n",
       "\n",
       "    .dataframe thead th {\n",
       "        text-align: right;\n",
       "    }\n",
       "</style>\n",
       "<table border=\"1\" class=\"dataframe\">\n",
       "  <thead>\n",
       "    <tr style=\"text-align: right;\">\n",
       "      <th></th>\n",
       "      <th>title</th>\n",
       "      <th>year</th>\n",
       "      <th>name</th>\n",
       "      <th>type</th>\n",
       "      <th>character</th>\n",
       "      <th>n</th>\n",
       "    </tr>\n",
       "  </thead>\n",
       "  <tbody>\n",
       "    <tr>\n",
       "      <th>0</th>\n",
       "      <td>Closet Monster</td>\n",
       "      <td>2015.0</td>\n",
       "      <td>Buffy #1</td>\n",
       "      <td>actor</td>\n",
       "      <td>Buffy 4</td>\n",
       "      <td>NaN</td>\n",
       "    </tr>\n",
       "    <tr>\n",
       "      <th>1</th>\n",
       "      <td>Suuri illusioni</td>\n",
       "      <td>1985.0</td>\n",
       "      <td>Homo $</td>\n",
       "      <td>actor</td>\n",
       "      <td>Guests</td>\n",
       "      <td>22.0</td>\n",
       "    </tr>\n",
       "    <tr>\n",
       "      <th>2</th>\n",
       "      <td>Battle of the Sexes</td>\n",
       "      <td>2017.0</td>\n",
       "      <td>$hutter</td>\n",
       "      <td>actor</td>\n",
       "      <td>Bobby Riggs Fan</td>\n",
       "      <td>10.0</td>\n",
       "    </tr>\n",
       "    <tr>\n",
       "      <th>3</th>\n",
       "      <td>Secret in Their Eyes</td>\n",
       "      <td>2015.0</td>\n",
       "      <td>$hutter</td>\n",
       "      <td>actor</td>\n",
       "      <td>2002 Dodger Fan</td>\n",
       "      <td>NaN</td>\n",
       "    </tr>\n",
       "    <tr>\n",
       "      <th>4</th>\n",
       "      <td>Steve Jobs</td>\n",
       "      <td>2015.0</td>\n",
       "      <td>$hutter</td>\n",
       "      <td>actor</td>\n",
       "      <td>1988 Opera House Patron</td>\n",
       "      <td>NaN</td>\n",
       "    </tr>\n",
       "  </tbody>\n",
       "</table>\n",
       "</div>"
      ],
      "text/plain": [
       "                  title    year      name   type                character  \\\n",
       "0        Closet Monster  2015.0  Buffy #1  actor                  Buffy 4   \n",
       "1       Suuri illusioni  1985.0    Homo $  actor                   Guests   \n",
       "2   Battle of the Sexes  2017.0   $hutter  actor          Bobby Riggs Fan   \n",
       "3  Secret in Their Eyes  2015.0   $hutter  actor          2002 Dodger Fan   \n",
       "4            Steve Jobs  2015.0   $hutter  actor  1988 Opera House Patron   \n",
       "\n",
       "      n  \n",
       "0   NaN  \n",
       "1  22.0  \n",
       "2  10.0  \n",
       "3   NaN  \n",
       "4   NaN  "
      ]
     },
     "execution_count": 4,
     "metadata": {},
     "output_type": "execute_result"
    }
   ],
   "source": [
    "cast = pd.read_csv('cast.csv')\n",
    "cast.head()"
   ]
  },
  {
   "cell_type": "markdown",
   "metadata": {
    "collapsed": true
   },
   "source": [
    "### What are the ten most common movie names of all time?"
   ]
  },
  {
   "cell_type": "code",
   "execution_count": 5,
   "metadata": {},
   "outputs": [],
   "source": [
    "common_movies = titles.groupby(['title'])"
   ]
  },
  {
   "cell_type": "code",
   "execution_count": 6,
   "metadata": {},
   "outputs": [
    {
     "data": {
      "text/plain": [
       "title\n",
       "Hamlet                  18\n",
       "Carmen                  16\n",
       "Macbeth                 15\n",
       "The Outsider            12\n",
       "Maya                    11\n",
       "The Three Musketeers    11\n",
       "Freedom                 11\n",
       "Othello                 11\n",
       "Temptation              11\n",
       "Kismet                  11\n",
       "Name: title, dtype: int64"
      ]
     },
     "execution_count": 6,
     "metadata": {},
     "output_type": "execute_result"
    }
   ],
   "source": [
    "common_movies ['title'].count().sort_values(ascending = False).head(10)"
   ]
  },
  {
   "cell_type": "markdown",
   "metadata": {
    "collapsed": true
   },
   "source": [
    "### Which three years of the 1930s saw the most films released?"
   ]
  },
  {
   "cell_type": "code",
   "execution_count": 7,
   "metadata": {},
   "outputs": [],
   "source": [
    "release_date = titles[titles['year'].between(1930, 1939, inclusive = True)].groupby(['year'])"
   ]
  },
  {
   "cell_type": "code",
   "execution_count": 8,
   "metadata": {},
   "outputs": [
    {
     "data": {
      "text/html": [
       "<div>\n",
       "<style scoped>\n",
       "    .dataframe tbody tr th:only-of-type {\n",
       "        vertical-align: middle;\n",
       "    }\n",
       "\n",
       "    .dataframe tbody tr th {\n",
       "        vertical-align: top;\n",
       "    }\n",
       "\n",
       "    .dataframe thead th {\n",
       "        text-align: right;\n",
       "    }\n",
       "</style>\n",
       "<table border=\"1\" class=\"dataframe\">\n",
       "  <thead>\n",
       "    <tr style=\"text-align: right;\">\n",
       "      <th></th>\n",
       "      <th>title</th>\n",
       "    </tr>\n",
       "    <tr>\n",
       "      <th>year</th>\n",
       "      <th></th>\n",
       "    </tr>\n",
       "  </thead>\n",
       "  <tbody>\n",
       "    <tr>\n",
       "      <th>1937</th>\n",
       "      <td>1194</td>\n",
       "    </tr>\n",
       "    <tr>\n",
       "      <th>1936</th>\n",
       "      <td>1139</td>\n",
       "    </tr>\n",
       "    <tr>\n",
       "      <th>1938</th>\n",
       "      <td>1127</td>\n",
       "    </tr>\n",
       "  </tbody>\n",
       "</table>\n",
       "</div>"
      ],
      "text/plain": [
       "      title\n",
       "year       \n",
       "1937   1194\n",
       "1936   1139\n",
       "1938   1127"
      ]
     },
     "execution_count": 8,
     "metadata": {},
     "output_type": "execute_result"
    }
   ],
   "source": [
    "release_date.count().sort_values(['title'],ascending = False).head(3)"
   ]
  },
  {
   "cell_type": "markdown",
   "metadata": {
    "collapsed": true
   },
   "source": [
    "### Plot the number of films that have been released each decade over the history of cinema."
   ]
  },
  {
   "cell_type": "code",
   "execution_count": 9,
   "metadata": {},
   "outputs": [],
   "source": [
    "import seaborn as sns\n",
    "import matplotlib.pyplot as plt"
   ]
  },
  {
   "cell_type": "code",
   "execution_count": 10,
   "metadata": {},
   "outputs": [
    {
     "data": {
      "image/png": "[encoded data removed]",
      "text/plain": [
       "<Figure size 640x480 with 1 Axes>"
      ]
     },
     "metadata": {},
     "output_type": "display_data"
    }
   ],
   "source": [
    "df = titles.groupby(['year', 'title']).count().reset_index()\n",
    "sns.histplot(data=df, x='year', bins=int((df['year'].max() - df['year'].min()) / 10))\n",
    "\n",
    "plt.show()"
   ]
  },
  {
   "cell_type": "markdown",
   "metadata": {
    "collapsed": true
   },
   "source": [
    "### Plot the number of \"Hamlet\" films made each decade."
   ]
  },
  {
   "cell_type": "code",
   "execution_count": 11,
   "metadata": {},
   "outputs": [],
   "source": [
    "hamlet_film = titles [titles['title'] == \"Hamlet\"].groupby (['year', 'title']).count().reset_index()"
   ]
  },
  {
   "cell_type": "code",
   "execution_count": 12,
   "metadata": {},
   "outputs": [
    {
     "data": {
      "image/png": "[encoded data removed]",
      "text/plain": [
       "<Figure size 640x480 with 1 Axes>"
      ]
     },
     "metadata": {},
     "output_type": "display_data"
    }
   ],
   "source": [
    "sns.histplot(data = hamlet_film, x = 'year', bins=int((hamlet_film['year'].max() - hamlet_film['year'].min()) / 10))\n",
    "plt.show()"
   ]
  },
  {
   "cell_type": "markdown",
   "metadata": {
    "collapsed": true
   },
   "source": [
    "### Plot the number of \"Rustler\" characters in each decade of the history of film."
   ]
  },
  {
   "cell_type": "code",
   "execution_count": 13,
   "metadata": {},
   "outputs": [],
   "source": [
    "rustler = cast [cast['character'] == \"Rustler\"].groupby(['character', 'year']).count().reset_index()"
   ]
  },
  {
   "cell_type": "code",
   "execution_count": 14,
   "metadata": {},
   "outputs": [
    {
     "data": {
      "image/png": "[encoded data removed]",
      "text/plain": [
       "<Figure size 640x480 with 1 Axes>"
      ]
     },
     "metadata": {},
     "output_type": "display_data"
    }
   ],
   "source": [
    "sns.histplot(data = rustler, x = 'year', bins=int((rustler['year'].max() - rustler['year'].min()) / 10))\n",
    "plt.show()"
   ]
  },
  {
   "cell_type": "markdown",
   "metadata": {
    "collapsed": true
   },
   "source": [
    "### Plot the number of \"Hamlet\" characters each decade."
   ]
  },
  {
   "cell_type": "code",
   "execution_count": 15,
   "metadata": {},
   "outputs": [],
   "source": [
    "hamlet_ch = cast [cast ['character'] == \"Hamlet\"].groupby (['year', 'character', 'title']).count().reset_index()"
   ]
  },
  {
   "cell_type": "code",
   "execution_count": 16,
   "metadata": {},
   "outputs": [
    {
     "data": {
      "image/png": "[encoded data removed]",
      "text/plain": [
       "<Figure size 640x480 with 1 Axes>"
      ]
     },
     "metadata": {},
     "output_type": "display_data"
    }
   ],
   "source": [
    "sns.histplot(data = hamlet_ch, x = 'year', bins = int((hamlet_ch['year'].max())-(hamlet_ch['year'].min())/10))\n",
    "plt.show()"
   ]
  },
  {
   "cell_type": "markdown",
   "metadata": {
    "collapsed": true
   },
   "source": [
    "### What are the 11 most common character names in movie history?"
   ]
  },
  {
   "cell_type": "code",
   "execution_count": 17,
   "metadata": {},
   "outputs": [],
   "source": [
    "common_character = cast.groupby(['character'])"
   ]
  },
  {
   "cell_type": "code",
   "execution_count": 18,
   "metadata": {},
   "outputs": [
    {
     "data": {
      "text/plain": [
       "character\n",
       "Himself      17396\n",
       "Policeman     6158\n",
       "Doctor        5922\n",
       "Extra         5625\n",
       "Reporter      5516\n",
       "Townsman      5065\n",
       "Bartender     5055\n",
       "Waiter        4662\n",
       "Henchman      4309\n",
       "Dancer        4110\n",
       "Soldier       3901\n",
       "Name: character, dtype: int64"
      ]
     },
     "execution_count": 18,
     "metadata": {},
     "output_type": "execute_result"
    }
   ],
   "source": [
    "common_character['character'].count().sort_values(ascending = False).head(11)"
   ]
  },
  {
   "cell_type": "markdown",
   "metadata": {
    "collapsed": true
   },
   "source": [
    "### Who are the 10 people most often credited as \"Herself\" in film history?"
   ]
  },
  {
   "cell_type": "code",
   "execution_count": 19,
   "metadata": {},
   "outputs": [],
   "source": [
    "herself = cast[cast['character'] == \"Herself\"].groupby('name')"
   ]
  },
  {
   "cell_type": "code",
   "execution_count": 20,
   "metadata": {},
   "outputs": [
    {
     "data": {
      "text/plain": [
       "name\n",
       "Aleli Estrada          1\n",
       "Salsa Katanga          1\n",
       "Najja Meeks            1\n",
       "Nelly Diener           1\n",
       "Nicole Sclafani        1\n",
       "Parish Rahbar          1\n",
       "Paulina Pita Macias    1\n",
       "Pussy Riot             1\n",
       "Rebecca Hudson         1\n",
       "Ren? Biaggi            1\n",
       "Name: name, dtype: int64"
      ]
     },
     "execution_count": 20,
     "metadata": {},
     "output_type": "execute_result"
    }
   ],
   "source": [
    "herself['name'].count().sort_values(ascending = False).head(10)"
   ]
  },
  {
   "cell_type": "markdown",
   "metadata": {
    "collapsed": true
   },
   "source": [
    "### Who are the 10 people most often credited as \"Himself\" in film history?"
   ]
  },
  {
   "cell_type": "code",
   "execution_count": 21,
   "metadata": {},
   "outputs": [],
   "source": [
    "himself = cast[cast['character'] == \"Himself\"].groupby('name')"
   ]
  },
  {
   "cell_type": "code",
   "execution_count": 22,
   "metadata": {},
   "outputs": [
    {
     "data": {
      "text/plain": [
       "name\n",
       "Adolf Hitler             99\n",
       "Richard Nixon            45\n",
       "Ronald Reagan            39\n",
       "John F. Kennedy          33\n",
       "Winston Churchill        23\n",
       "George W. Bush           23\n",
       "Ron Jeremy               23\n",
       "Benito Mussolini         22\n",
       "Franklin D. Roosevelt    20\n",
       "Bill Clinton             20\n",
       "Name: name, dtype: int64"
      ]
     },
     "execution_count": 22,
     "metadata": {},
     "output_type": "execute_result"
    }
   ],
   "source": [
    "himself['name'].count().sort_values(ascending = False).head(10)"
   ]
  },
  {
   "cell_type": "markdown",
   "metadata": {
    "collapsed": true
   },
   "source": [
    "### Which actors or actresses appeared in the most movies in the year 1945?"
   ]
  },
  {
   "cell_type": "code",
   "execution_count": 23,
   "metadata": {},
   "outputs": [],
   "source": [
    "actor = cast[(cast['year'] == 1945) & ((cast['type'] == 'actor') | (cast['type'] == 'actress'))]\n",
    "actor = actor.groupby('name')"
   ]
  },
  {
   "cell_type": "code",
   "execution_count": 24,
   "metadata": {},
   "outputs": [
    {
     "data": {
      "text/plain": [
       "name\n",
       "Sam (II) Harris     32\n",
       "Harold Miller       29\n",
       "Frank O'Connor      27\n",
       "Nolan Leary         27\n",
       "Franklyn Farnum     26\n",
       "Larry Steers        25\n",
       "Tom London          24\n",
       "Charles Sullivan    24\n",
       "Edmund Cobb         24\n",
       "Herman Hack         24\n",
       "Name: name, dtype: int64"
      ]
     },
     "execution_count": 24,
     "metadata": {},
     "output_type": "execute_result"
    }
   ],
   "source": [
    "actor['name'].count().sort_values(ascending = False).head(10)"
   ]
  },
  {
   "cell_type": "markdown",
   "metadata": {
    "collapsed": true
   },
   "source": [
    "### Which actors or actresses appeared in the most movies in the year 1985?"
   ]
  },
  {
   "cell_type": "code",
   "execution_count": 25,
   "metadata": {},
   "outputs": [],
   "source": [
    "actor_1985 = cast[(cast['year'] == 1985) & ((cast['type'] == \"actor\")| (cast['type'] == \"actress\"))]\n",
    "actor_1985 = actor_1985.groupby('name')"
   ]
  },
  {
   "cell_type": "code",
   "execution_count": 26,
   "metadata": {},
   "outputs": [
    {
     "data": {
      "text/plain": [
       "name\n",
       "Shakti Kapoor     21\n",
       "Mammootty         21\n",
       "Raj Babbar        15\n",
       "Mohanlal          15\n",
       "Lou Scheimer      15\n",
       "Rajesh Khanna     13\n",
       "Asrani            13\n",
       "Jagdish Raj       12\n",
       "Pinchoo Kapoor    12\n",
       "Om Shivpuri       12\n",
       "Name: name, dtype: int64"
      ]
     },
     "execution_count": 26,
     "metadata": {},
     "output_type": "execute_result"
    }
   ],
   "source": [
    "actor_1985['name'].count().sort_values(ascending = False).head(10)"
   ]
  },
  {
   "cell_type": "markdown",
   "metadata": {
    "collapsed": true
   },
   "source": [
    "### Plot how many roles Mammootty has played in each year of his career."
   ]
  },
  {
   "cell_type": "code",
   "execution_count": 27,
   "metadata": {},
   "outputs": [],
   "source": [
    "Mammootty = cast[cast['name'] == \"Mammootty\"].groupby(['character', 'year']).count().reset_index()"
   ]
  },
  {
   "cell_type": "code",
   "execution_count": 28,
   "metadata": {},
   "outputs": [
    {
     "data": {
      "text/plain": [
       "<Figure size 800x600 with 0 Axes>"
      ]
     },
     "metadata": {},
     "output_type": "display_data"
    },
    {
     "data": {
      "image/png": "[encoded data removed]",
      "text/plain": [
       "<Figure size 500x500 with 1 Axes>"
      ]
     },
     "metadata": {},
     "output_type": "display_data"
    }
   ],
   "source": [
    "plt.figure(figsize = (8,6))\n",
    "sns.displot(data = Mammootty, x = 'year', bins = int(cast['year'].max()-cast['year'].min()))\n",
    "plt.show()"
   ]
  },
  {
   "cell_type": "markdown",
   "metadata": {
    "collapsed": true
   },
   "source": [
    "### What are the 10 most frequent roles that start with the phrase \"Patron in\"?"
   ]
  },
  {
   "cell_type": "code",
   "execution_count": 29,
   "metadata": {},
   "outputs": [
    {
     "data": {
      "text/plain": [
       "character\n",
       "Patron in Frisky Rabbit         7\n",
       "Patron in Billiard Parlor       5\n",
       "Patron in Chinese Restaurant    5\n",
       "Patron in Club                  3\n",
       "Patron in the Coffee House      3\n",
       "Patron in booth                 2\n",
       "Patron in Coffee Shop           2\n",
       "Busted Patron in Raid           2\n",
       "Patron in restaurant            2\n",
       "Patron in Bar                   2\n",
       "Name: character, dtype: int64"
      ]
     },
     "execution_count": 29,
     "metadata": {},
     "output_type": "execute_result"
    }
   ],
   "source": [
    "patron = cast[cast['character'].astype(str).str.contains(\"Patron in\")].groupby('character')\n",
    "\n",
    "patron['character'].count().sort_values(ascending = False).head(10)"
   ]
  },
  {
   "cell_type": "markdown",
   "metadata": {
    "collapsed": true
   },
   "source": [
    "### What are the 10 most frequent roles that start with the word \"Science\"?"
   ]
  },
  {
   "cell_type": "code",
   "execution_count": 30,
   "metadata": {},
   "outputs": [],
   "source": [
    "science = cast[cast['character'].astype(str).str.contains(\"Science\")].groupby(\"character\")"
   ]
  },
  {
   "cell_type": "code",
   "execution_count": 31,
   "metadata": {},
   "outputs": [
    {
     "data": {
      "text/plain": [
       "character\n",
       "Science Teacher                            33\n",
       "Science Student                             8\n",
       "Science Fair Student                        5\n",
       "Science Club Member                         5\n",
       "Science Reporter                            5\n",
       "Science Kid                                 4\n",
       "The Science Fair Contestants & Families     3\n",
       "Science Fair Judge                          3\n",
       "Science                                     3\n",
       "Member of 'Science Fucktion'                3\n",
       "Name: character, dtype: int64"
      ]
     },
     "execution_count": 31,
     "metadata": {},
     "output_type": "execute_result"
    }
   ],
   "source": [
    "science ['character'].count().sort_values(ascending = False).head(10)"
   ]
  },
  {
   "cell_type": "markdown",
   "metadata": {
    "collapsed": true
   },
   "source": [
    "### Plot the n-values of the roles that Judi Dench has played over her career."
   ]
  },
  {
   "cell_type": "code",
   "execution_count": 32,
   "metadata": {},
   "outputs": [],
   "source": [
    "judi_dench = cast[cast['name'].astype(str).str.contains (\" Dench\")]"
   ]
  },
  {
   "cell_type": "code",
   "execution_count": 33,
   "metadata": {},
   "outputs": [
    {
     "data": {
      "text/html": [
       "<div>\n",
       "<style scoped>\n",
       "    .dataframe tbody tr th:only-of-type {\n",
       "        vertical-align: middle;\n",
       "    }\n",
       "\n",
       "    .dataframe tbody tr th {\n",
       "        vertical-align: top;\n",
       "    }\n",
       "\n",
       "    .dataframe thead th {\n",
       "        text-align: right;\n",
       "    }\n",
       "</style>\n",
       "<table border=\"1\" class=\"dataframe\">\n",
       "  <thead>\n",
       "    <tr style=\"text-align: right;\">\n",
       "      <th></th>\n",
       "      <th>title</th>\n",
       "      <th>year</th>\n",
       "      <th>name</th>\n",
       "      <th>type</th>\n",
       "      <th>character</th>\n",
       "      <th>n</th>\n",
       "    </tr>\n",
       "  </thead>\n",
       "  <tbody>\n",
       "    <tr>\n",
       "      <th>551898</th>\n",
       "      <td>Star Wars: Episode III - Revenge of the Sith</td>\n",
       "      <td>2005.0</td>\n",
       "      <td>Axel Dench</td>\n",
       "      <td>actor</td>\n",
       "      <td>Wookiee</td>\n",
       "      <td>51.0</td>\n",
       "    </tr>\n",
       "    <tr>\n",
       "      <th>551899</th>\n",
       "      <td>Flood Tide</td>\n",
       "      <td>1934.0</td>\n",
       "      <td>Bertram Dench</td>\n",
       "      <td>actor</td>\n",
       "      <td>Charles Tupper</td>\n",
       "      <td>11.0</td>\n",
       "    </tr>\n",
       "    <tr>\n",
       "      <th>551900</th>\n",
       "      <td>Waltzes from Vienna</td>\n",
       "      <td>1934.0</td>\n",
       "      <td>Bertram Dench</td>\n",
       "      <td>actor</td>\n",
       "      <td>Engine driver</td>\n",
       "      <td>NaN</td>\n",
       "    </tr>\n",
       "    <tr>\n",
       "      <th>551901</th>\n",
       "      <td>First Knight</td>\n",
       "      <td>1995.0</td>\n",
       "      <td>Jeffery Dench</td>\n",
       "      <td>actor</td>\n",
       "      <td>Elder</td>\n",
       "      <td>26.0</td>\n",
       "    </tr>\n",
       "    <tr>\n",
       "      <th>551902</th>\n",
       "      <td>Ice-Capades Revue</td>\n",
       "      <td>1942.0</td>\n",
       "      <td>Robert Dench</td>\n",
       "      <td>actor</td>\n",
       "      <td>Ice-Capades Skater</td>\n",
       "      <td>16.0</td>\n",
       "    </tr>\n",
       "    <tr>\n",
       "      <th>551903</th>\n",
       "      <td>The Mountain</td>\n",
       "      <td>1935.0</td>\n",
       "      <td>Sydney Dench</td>\n",
       "      <td>actor</td>\n",
       "      <td>John Rodgers</td>\n",
       "      <td>NaN</td>\n",
       "    </tr>\n",
       "    <tr>\n",
       "      <th>551904</th>\n",
       "      <td>The Gateway Meat</td>\n",
       "      <td>2008.0</td>\n",
       "      <td>Zack Dench</td>\n",
       "      <td>actor</td>\n",
       "      <td>Zack the Drugdealer</td>\n",
       "      <td>NaN</td>\n",
       "    </tr>\n",
       "    <tr>\n",
       "      <th>551905</th>\n",
       "      <td>A Different Loyalty</td>\n",
       "      <td>2004.0</td>\n",
       "      <td>Kliment Denchev</td>\n",
       "      <td>actor</td>\n",
       "      <td>Russian Doctor</td>\n",
       "      <td>50.0</td>\n",
       "    </tr>\n",
       "    <tr>\n",
       "      <th>551906</th>\n",
       "      <td>A Year in the Death of Jack Richards</td>\n",
       "      <td>2004.0</td>\n",
       "      <td>Kliment Denchev</td>\n",
       "      <td>actor</td>\n",
       "      <td>Polish Man</td>\n",
       "      <td>6.0</td>\n",
       "    </tr>\n",
       "    <tr>\n",
       "      <th>551907</th>\n",
       "      <td>Baseynat</td>\n",
       "      <td>1977.0</td>\n",
       "      <td>Kliment Denchev</td>\n",
       "      <td>actor</td>\n",
       "      <td>Bufo</td>\n",
       "      <td>3.0</td>\n",
       "    </tr>\n",
       "    <tr>\n",
       "      <th>551908</th>\n",
       "      <td>Bashta mi boyadzhiyata</td>\n",
       "      <td>1974.0</td>\n",
       "      <td>Kliment Denchev</td>\n",
       "      <td>actor</td>\n",
       "      <td>Bakalinat</td>\n",
       "      <td>5.0</td>\n",
       "    </tr>\n",
       "    <tr>\n",
       "      <th>551909</th>\n",
       "      <td>Bokser</td>\n",
       "      <td>1967.0</td>\n",
       "      <td>Kliment Denchev</td>\n",
       "      <td>actor</td>\n",
       "      <td>Boxer</td>\n",
       "      <td>18.0</td>\n",
       "    </tr>\n",
       "    <tr>\n",
       "      <th>551910</th>\n",
       "      <td>Des chiens dans la neige</td>\n",
       "      <td>2002.0</td>\n",
       "      <td>Kliment Denchev</td>\n",
       "      <td>actor</td>\n",
       "      <td>Le m?decin</td>\n",
       "      <td>17.0</td>\n",
       "    </tr>\n",
       "    <tr>\n",
       "      <th>551911</th>\n",
       "      <td>Hollow Point</td>\n",
       "      <td>1996.0</td>\n",
       "      <td>Kliment Denchev</td>\n",
       "      <td>actor</td>\n",
       "      <td>Patriarch</td>\n",
       "      <td>10.0</td>\n",
       "    </tr>\n",
       "    <tr>\n",
       "      <th>551912</th>\n",
       "      <td>Instrument li e gaydata?</td>\n",
       "      <td>1978.0</td>\n",
       "      <td>Kliment Denchev</td>\n",
       "      <td>actor</td>\n",
       "      <td>Pusho</td>\n",
       "      <td>6.0</td>\n",
       "    </tr>\n",
       "    <tr>\n",
       "      <th>551913</th>\n",
       "      <td>Joshua Then and Now</td>\n",
       "      <td>1985.0</td>\n",
       "      <td>Kliment Denchev</td>\n",
       "      <td>actor</td>\n",
       "      <td>Bulgarian Poet</td>\n",
       "      <td>39.0</td>\n",
       "    </tr>\n",
       "    <tr>\n",
       "      <th>551914</th>\n",
       "      <td>Karambol</td>\n",
       "      <td>1966.0</td>\n",
       "      <td>Kliment Denchev</td>\n",
       "      <td>actor</td>\n",
       "      <td>Emil</td>\n",
       "      <td>6.0</td>\n",
       "    </tr>\n",
       "    <tr>\n",
       "      <th>551915</th>\n",
       "      <td>Konnikat</td>\n",
       "      <td>1964.0</td>\n",
       "      <td>Kliment Denchev</td>\n",
       "      <td>actor</td>\n",
       "      <td>Bano</td>\n",
       "      <td>4.0</td>\n",
       "    </tr>\n",
       "    <tr>\n",
       "      <th>551916</th>\n",
       "      <td>Kozijat rog</td>\n",
       "      <td>1972.0</td>\n",
       "      <td>Kliment Denchev</td>\n",
       "      <td>actor</td>\n",
       "      <td>Turchin</td>\n",
       "      <td>4.0</td>\n",
       "    </tr>\n",
       "    <tr>\n",
       "      <th>551917</th>\n",
       "      <td>Nyama nishto po-hubavo ot loshoto vreme</td>\n",
       "      <td>1971.0</td>\n",
       "      <td>Kliment Denchev</td>\n",
       "      <td>actor</td>\n",
       "      <td>Robolt</td>\n",
       "      <td>8.0</td>\n",
       "    </tr>\n",
       "    <tr>\n",
       "      <th>551918</th>\n",
       "      <td>Otkade se znaem</td>\n",
       "      <td>1975.0</td>\n",
       "      <td>Kliment Denchev</td>\n",
       "      <td>actor</td>\n",
       "      <td>Tenesistat Bobi</td>\n",
       "      <td>6.0</td>\n",
       "    </tr>\n",
       "    <tr>\n",
       "      <th>551919</th>\n",
       "      <td>Petimata ot 'Mobi Dik'</td>\n",
       "      <td>1970.0</td>\n",
       "      <td>Kliment Denchev</td>\n",
       "      <td>actor</td>\n",
       "      <td>Diversant</td>\n",
       "      <td>9.0</td>\n",
       "    </tr>\n",
       "    <tr>\n",
       "      <th>551920</th>\n",
       "      <td>Razsledvane</td>\n",
       "      <td>2006.0</td>\n",
       "      <td>Kliment Denchev</td>\n",
       "      <td>actor</td>\n",
       "      <td>Sledovatel</td>\n",
       "      <td>4.0</td>\n",
       "    </tr>\n",
       "    <tr>\n",
       "      <th>551921</th>\n",
       "      <td>Razsledvane</td>\n",
       "      <td>2006.0</td>\n",
       "      <td>Kliment Denchev</td>\n",
       "      <td>actor</td>\n",
       "      <td>Examining magistrate</td>\n",
       "      <td>4.0</td>\n",
       "    </tr>\n",
       "    <tr>\n",
       "      <th>551922</th>\n",
       "      <td>Requiem pour un beau sans-coeur</td>\n",
       "      <td>1992.0</td>\n",
       "      <td>Kliment Denchev</td>\n",
       "      <td>actor</td>\n",
       "      <td>Maki</td>\n",
       "      <td>5.0</td>\n",
       "    </tr>\n",
       "    <tr>\n",
       "      <th>551923</th>\n",
       "      <td>Sbogom, priyateli!</td>\n",
       "      <td>1970.0</td>\n",
       "      <td>Kliment Denchev</td>\n",
       "      <td>actor</td>\n",
       "      <td>Fizkulturnikat</td>\n",
       "      <td>10.0</td>\n",
       "    </tr>\n",
       "    <tr>\n",
       "      <th>551924</th>\n",
       "      <td>Sonatine</td>\n",
       "      <td>1984.0</td>\n",
       "      <td>Kliment Denchev</td>\n",
       "      <td>actor</td>\n",
       "      <td>Bulgarian seaman</td>\n",
       "      <td>4.0</td>\n",
       "    </tr>\n",
       "    <tr>\n",
       "      <th>551925</th>\n",
       "      <td>The Assignment</td>\n",
       "      <td>1997.0</td>\n",
       "      <td>Kliment Denchev</td>\n",
       "      <td>actor</td>\n",
       "      <td>KGB Technician</td>\n",
       "      <td>14.0</td>\n",
       "    </tr>\n",
       "    <tr>\n",
       "      <th>551926</th>\n",
       "      <td>The Book of Eve</td>\n",
       "      <td>2002.0</td>\n",
       "      <td>Kliment Denchev</td>\n",
       "      <td>actor</td>\n",
       "      <td>Church Caretaker</td>\n",
       "      <td>22.0</td>\n",
       "    </tr>\n",
       "    <tr>\n",
       "      <th>551927</th>\n",
       "      <td>Voynata na taralezhite</td>\n",
       "      <td>1979.0</td>\n",
       "      <td>Kliment Denchev</td>\n",
       "      <td>actor</td>\n",
       "      <td>Milchev</td>\n",
       "      <td>9.0</td>\n",
       "    </tr>\n",
       "    <tr>\n",
       "      <th>551928</th>\n",
       "      <td>Strictly Salsa: The Beginning</td>\n",
       "      <td>2016.0</td>\n",
       "      <td>Milen Denchev</td>\n",
       "      <td>actor</td>\n",
       "      <td>Competition judge</td>\n",
       "      <td>NaN</td>\n",
       "    </tr>\n",
       "    <tr>\n",
       "      <th>551929</th>\n",
       "      <td>The Chosen Ones</td>\n",
       "      <td>2017.0</td>\n",
       "      <td>Milen Denchev</td>\n",
       "      <td>actor</td>\n",
       "      <td>Milen</td>\n",
       "      <td>NaN</td>\n",
       "    </tr>\n",
       "  </tbody>\n",
       "</table>\n",
       "</div>"
      ],
      "text/plain": [
       "                                               title    year             name  \\\n",
       "551898  Star Wars: Episode III - Revenge of the Sith  2005.0       Axel Dench   \n",
       "551899                                    Flood Tide  1934.0    Bertram Dench   \n",
       "551900                           Waltzes from Vienna  1934.0    Bertram Dench   \n",
       "551901                                  First Knight  1995.0    Jeffery Dench   \n",
       "551902                             Ice-Capades Revue  1942.0     Robert Dench   \n",
       "551903                                  The Mountain  1935.0     Sydney Dench   \n",
       "551904                              The Gateway Meat  2008.0       Zack Dench   \n",
       "551905                           A Different Loyalty  2004.0  Kliment Denchev   \n",
       "551906          A Year in the Death of Jack Richards  2004.0  Kliment Denchev   \n",
       "551907                                      Baseynat  1977.0  Kliment Denchev   \n",
       "551908                        Bashta mi boyadzhiyata  1974.0  Kliment Denchev   \n",
       "551909                                        Bokser  1967.0  Kliment Denchev   \n",
       "551910                      Des chiens dans la neige  2002.0  Kliment Denchev   \n",
       "551911                                  Hollow Point  1996.0  Kliment Denchev   \n",
       "551912                      Instrument li e gaydata?  1978.0  Kliment Denchev   \n",
       "551913                           Joshua Then and Now  1985.0  Kliment Denchev   \n",
       "551914                                      Karambol  1966.0  Kliment Denchev   \n",
       "551915                                      Konnikat  1964.0  Kliment Denchev   \n",
       "551916                                   Kozijat rog  1972.0  Kliment Denchev   \n",
       "551917       Nyama nishto po-hubavo ot loshoto vreme  1971.0  Kliment Denchev   \n",
       "551918                               Otkade se znaem  1975.0  Kliment Denchev   \n",
       "551919                        Petimata ot 'Mobi Dik'  1970.0  Kliment Denchev   \n",
       "551920                                   Razsledvane  2006.0  Kliment Denchev   \n",
       "551921                                   Razsledvane  2006.0  Kliment Denchev   \n",
       "551922               Requiem pour un beau sans-coeur  1992.0  Kliment Denchev   \n",
       "551923                            Sbogom, priyateli!  1970.0  Kliment Denchev   \n",
       "551924                                      Sonatine  1984.0  Kliment Denchev   \n",
       "551925                                The Assignment  1997.0  Kliment Denchev   \n",
       "551926                               The Book of Eve  2002.0  Kliment Denchev   \n",
       "551927                        Voynata na taralezhite  1979.0  Kliment Denchev   \n",
       "551928                 Strictly Salsa: The Beginning  2016.0    Milen Denchev   \n",
       "551929                               The Chosen Ones  2017.0    Milen Denchev   \n",
       "\n",
       "         type             character     n  \n",
       "551898  actor               Wookiee  51.0  \n",
       "551899  actor        Charles Tupper  11.0  \n",
       "551900  actor         Engine driver   NaN  \n",
       "551901  actor                 Elder  26.0  \n",
       "551902  actor    Ice-Capades Skater  16.0  \n",
       "551903  actor          John Rodgers   NaN  \n",
       "551904  actor   Zack the Drugdealer   NaN  \n",
       "551905  actor        Russian Doctor  50.0  \n",
       "551906  actor            Polish Man   6.0  \n",
       "551907  actor                  Bufo   3.0  \n",
       "551908  actor             Bakalinat   5.0  \n",
       "551909  actor                 Boxer  18.0  \n",
       "551910  actor            Le m?decin  17.0  \n",
       "551911  actor             Patriarch  10.0  \n",
       "551912  actor                 Pusho   6.0  \n",
       "551913  actor        Bulgarian Poet  39.0  \n",
       "551914  actor                  Emil   6.0  \n",
       "551915  actor                  Bano   4.0  \n",
       "551916  actor               Turchin   4.0  \n",
       "551917  actor                Robolt   8.0  \n",
       "551918  actor       Tenesistat Bobi   6.0  \n",
       "551919  actor             Diversant   9.0  \n",
       "551920  actor            Sledovatel   4.0  \n",
       "551921  actor  Examining magistrate   4.0  \n",
       "551922  actor                  Maki   5.0  \n",
       "551923  actor        Fizkulturnikat  10.0  \n",
       "551924  actor      Bulgarian seaman   4.0  \n",
       "551925  actor        KGB Technician  14.0  \n",
       "551926  actor      Church Caretaker  22.0  \n",
       "551927  actor               Milchev   9.0  \n",
       "551928  actor     Competition judge   NaN  \n",
       "551929  actor                 Milen   NaN  "
      ]
     },
     "execution_count": 33,
     "metadata": {},
     "output_type": "execute_result"
    }
   ],
   "source": [
    "judi_dench"
   ]
  },
  {
   "cell_type": "raw",
   "metadata": {},
   "source": [
    "*** Please Note: There is no entry named as 'Judi Dench'"
   ]
  },
  {
   "cell_type": "markdown",
   "metadata": {
    "collapsed": true
   },
   "source": [
    "### Plot the n-values of Cary Grant's roles through his career."
   ]
  },
  {
   "cell_type": "code",
   "execution_count": 34,
   "metadata": {},
   "outputs": [],
   "source": [
    "cary = cast[cast['name'] == \"Cary Grant\"]"
   ]
  },
  {
   "cell_type": "code",
   "execution_count": 35,
   "metadata": {},
   "outputs": [
    {
     "data": {
      "image/png": "[encoded data removed]",
      "text/plain": [
       "<Figure size 1400x1000 with 1 Axes>"
      ]
     },
     "metadata": {},
     "output_type": "display_data"
    }
   ],
   "source": [
    "plt.figure(figsize = (14,10))\n",
    "sns.barplot(data = cary, x = 'character', y = 'n')\n",
    "plt.show()"
   ]
  },
  {
   "cell_type": "markdown",
   "metadata": {
    "collapsed": true
   },
   "source": [
    "### Plot the n-value of the roles that Sidney Poitier has acted over the years."
   ]
  },
  {
   "cell_type": "code",
   "execution_count": 36,
   "metadata": {},
   "outputs": [],
   "source": [
    "poitier = cast[cast['name'] == \"Sidney Poitier\"]"
   ]
  },
  {
   "cell_type": "code",
   "execution_count": 37,
   "metadata": {},
   "outputs": [
    {
     "data": {
      "image/png": "[encoded data removed]",
      "text/plain": [
       "<Figure size 1400x1000 with 1 Axes>"
      ]
     },
     "metadata": {},
     "output_type": "display_data"
    }
   ],
   "source": [
    "plt.figure(figsize = (14,10))\n",
    "sns.barplot(data = poitier, x = 'character', y = 'n')\n",
    "plt.show()"
   ]
  },
  {
   "cell_type": "markdown",
   "metadata": {
    "collapsed": true
   },
   "source": [
    "### How many leading (n=1) roles were available to actors, and how many to actresses, in the 1950s?"
   ]
  },
  {
   "cell_type": "code",
   "execution_count": 38,
   "metadata": {},
   "outputs": [],
   "source": [
    "leading_role = cast[(cast['n'] ==1) & (cast['type'] == \"actor\") & (cast[\"year\"].between (1950, 1959, inclusive = True))].shape[0]"
   ]
  },
  {
   "cell_type": "code",
   "execution_count": 39,
   "metadata": {},
   "outputs": [
    {
     "name": "stdout",
     "output_type": "stream",
     "text": [
      "The number of leading roles were available to actors in 1950s:  5910\n"
     ]
    }
   ],
   "source": [
    "print(\"The number of leading roles were available to actors in 1950s: \", leading_role)"
   ]
  },
  {
   "cell_type": "code",
   "execution_count": 40,
   "metadata": {},
   "outputs": [],
   "source": [
    "leading_actress = cast[(cast['n'] ==1) & (cast['type'] ==\"actress\") & (cast[\"year\"].between(1950,1959, inclusive = True))].shape[0]"
   ]
  },
  {
   "cell_type": "code",
   "execution_count": 41,
   "metadata": {},
   "outputs": [
    {
     "name": "stdout",
     "output_type": "stream",
     "text": [
      "The number of leading roles were available to actress in 1950s:  0\n"
     ]
    }
   ],
   "source": [
    "print(\"The number of leading roles were available to actress in 1950s: \", leading_actress)"
   ]
  },
  {
   "cell_type": "markdown",
   "metadata": {
    "collapsed": true
   },
   "source": [
    "### How many supporting (n=2) roles were available to actors, and how many to actresses, in the 1950s?"
   ]
  },
  {
   "cell_type": "code",
   "execution_count": 42,
   "metadata": {},
   "outputs": [
    {
     "name": "stdout",
     "output_type": "stream",
     "text": [
      "The number of leading roles were available to actors in 1950s:  4117\n"
     ]
    }
   ],
   "source": [
    "leading_role_2 = cast[(cast['n'] ==2) & (cast['type'] == \"actor\") & (cast[\"year\"].between (1950, 1959, inclusive = True))].shape[0]\n",
    "print(\"The number of leading roles were available to actors in 1950s: \", leading_role_2)"
   ]
  },
  {
   "cell_type": "code",
   "execution_count": 43,
   "metadata": {},
   "outputs": [
    {
     "name": "stdout",
     "output_type": "stream",
     "text": [
      "The number of leading roles were available to actors in 1950s:  0\n"
     ]
    }
   ],
   "source": [
    "leading_role_actress_2 = cast[(cast['n'] ==2) & (cast['type'] == \"actress\") & (cast[\"year\"].between (1950, 1959, inclusive = True))].shape[0]\n",
    "print(\"The number of leading roles were available to actors in 1950s: \", leading_role_actress_2)"
   ]
  }
 ],
 "metadata": {
  "kernelspec": {
   "display_name": "Python 3 (ipykernel)",
   "language": "python",
   "name": "python3"
  },
  "language_info": {
   "codemirror_mode": {
    "name": "ipython",
    "version": 3
   },
   "file_extension": ".py",
   "mimetype": "text/x-python",
   "name": "python",
   "nbconvert_exporter": "python",
   "pygments_lexer": "ipython3",
   "version": "3.9.13"
  }
 },
 "nbformat": 4,
 "nbformat_minor": 1
}
